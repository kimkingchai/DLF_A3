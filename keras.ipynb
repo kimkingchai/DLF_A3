{
 "cells": [
  {
   "cell_type": "code",
   "execution_count": 1,
   "metadata": {},
   "outputs": [],
   "source": [
    "import os\n",
    "os.environ[\"KERAS_BACKEND\"] = \"torch\""
   ]
  },
  {
   "cell_type": "code",
   "execution_count": 2,
   "metadata": {},
   "outputs": [],
   "source": [
    "import shutil\n",
    "from pathlib import Path\n",
    "from yahooquery import Ticker\n",
    "\n",
    "# STOCK = \"aapl\"\n",
    "# DATASET_PATH = Path(\".qlib\")\n",
    "# REG_DIR = DATASET_PATH / Path(\"us\")\n",
    "# STOCK_PATH = REG_DIR / Path(f\"{STOCK}.csv\")\n",
    "\n",
    "# if os.path.exists(DATASET_PATH):\n",
    "#     shutil.rmtree(DATASET_PATH)\n",
    "# os.makedirs(REG_DIR)\n",
    "\n",
    "# aapl = Ticker(\"aapl\")\n",
    "# price = aapl.history(period=\"max\")\n",
    "\n",
    "# price.to_csv(STOCK_PATH)"
   ]
  },
  {
   "cell_type": "code",
   "execution_count": 3,
   "metadata": {},
   "outputs": [],
   "source": [
    "# !python scripts/dump_bin.py dump_all --csv_path .qlib/us --qlib_dir .qlib/qlib_data --include_fields open,close,high,low,volume,adjclose"
   ]
  },
  {
   "cell_type": "code",
   "execution_count": 4,
   "metadata": {},
   "outputs": [
    {
     "name": "stderr",
     "output_type": "stream",
     "text": [
      "[360794:MainThread](2023-11-22 00:57:31,299) INFO - qlib.Initialization - [config.py:416] - default_conf: client.\n",
      "[360794:MainThread](2023-11-22 00:57:31,458) INFO - qlib.Initialization - [__init__.py:74] - qlib successfully initialized based on client settings.\n",
      "[360794:MainThread](2023-11-22 00:57:31,459) INFO - qlib.Initialization - [__init__.py:76] - data_path={'__DEFAULT_FREQ': PosixPath('/mnt/Yeh/Dataset/ziyang/A3/.qlib/qlib_data')}\n"
     ]
    },
    {
     "name": "stdout",
     "output_type": "stream",
     "text": [
      "2768\n"
     ]
    },
    {
     "data": {
      "text/plain": [
       "0"
      ]
     },
     "execution_count": 4,
     "metadata": {},
     "output_type": "execute_result"
    }
   ],
   "source": [
    "import qlib\n",
    "from qlib.data import D\n",
    "from qlib.constant import REG_CN, REG_US\n",
    "\n",
    "start_date = \"2012-01-01\"\n",
    "end_date = \"2022-12-31\"\n",
    "\n",
    "target=\"Adj_Close\"\n",
    "\n",
    "fields_dict = {\n",
    "    \"Adj_Close\": \"$adjclose\",\n",
    "    #\"Open\": \"$open\",\n",
    "    #\"Close\": \"$close\",\n",
    "    #\"Open_Close_Diff\": \"$open-$close\",\n",
    "    #\"High\": \"$high\",\n",
    "    #\"Low\": \"$low\",\n",
    "    #\"Factor\": \"$adjclose/$close\",\n",
    "    #\"Volume\": \"$volume\",\n",
    "    #\"High_Low_Diff\": \"$high-$low\",\n",
    "    # \"Open_MA3\": \"Mean($open, 3)\",\n",
    "    # \"Open_MA5\": \"Mean($open, 5)\",\n",
    "    # \"Open_MA10\": \"Mean($open, 10)\",\n",
    "    # \"Open_MA20\": \"Mean($open, 20)\",\n",
    "    # \"Open_EMA3\": \"EMA($open, 3)\",\n",
    "    # \"Open_EMA5\": \"EMA($open, 5)\",\n",
    "    # \"Open_EMA10\": \"EMA($open, 10)\",\n",
    "    # \"Open_EMA20\": \"EMA($open, 20)\",\n",
    "    # \"Open_WMA3\": \"WMA($open, 3)\",\n",
    "    # \"Open_WMA5\": \"WMA($open, 5)\",\n",
    "    # \"Open_WMA10\": \"WMA($open, 10)\",\n",
    "    # \"Open_WMA20\": \"WMA($open, 20)\",\n",
    "    # \"Close_MA3\": \"Mean($close, 3)\",\n",
    "    # \"Close_MA5\": \"Mean($close, 5)\",\n",
    "    # \"Close_MA10\": \"Mean($close, 10)\",\n",
    "    # \"Close_MA20\": \"Mean($close, 20)\",\n",
    "    # \"Close_EMA3\": \"EMA($close, 3)\",\n",
    "    # \"Close_EMA5\": \"EMA($close, 5)\",\n",
    "    # \"Close_EMA10\": \"EMA($close, 10)\",\n",
    "    # \"Close_EMA20\": \"EMA($close, 20)\",\n",
    "    # \"Close_WMA3\": \"WMA($close, 3)\",\n",
    "    # \"Close_WMA5\": \"WMA($close, 5)\",\n",
    "    # \"Close_WMA10\": \"WMA($close, 10)\",\n",
    "    # \"Close_WMA20\": \"WMA($close, 20)\",\n",
    "    #\"MACD\": \"(EMA($close, 12) - EMA($close, 26))/$close - EMA((EMA($close, 12) - EMA($close, 26))/$close, 9)/$close\",\n",
    "    # \"Residual\": \"$adjclose-Ref($adjclose,1)\",\n",
    "}\n",
    "\n",
    "provider_uri = \".qlib/qlib_data\"  # target_dir\n",
    "qlib.init(provider_uri=provider_uri, region=REG_US)\n",
    "instruments = [\"AAPL\"]\n",
    "fields = fields_dict.values()\n",
    "len_feats = len(fields_dict)\n",
    "target_index = list(fields_dict.keys()).index(target)\n",
    "dataset = D.features(\n",
    "    instruments, fields, start_time=start_date, end_time=end_date, freq=\"day\"\n",
    ").rename(columns={v: k for k, v in fields_dict.items()})\n",
    "print(len(dataset))\n",
    "dataset.isna().sum().sum()"
   ]
  },
  {
   "cell_type": "code",
   "execution_count": 5,
   "metadata": {},
   "outputs": [],
   "source": [
    "dataset = dataset.loc[\"AAPL\"]"
   ]
  },
  {
   "cell_type": "code",
   "execution_count": 6,
   "metadata": {},
   "outputs": [
    {
     "data": {
      "text/plain": [
       "((2214, 1), (554, 1))"
      ]
     },
     "execution_count": 6,
     "metadata": {},
     "output_type": "execute_result"
    }
   ],
   "source": [
    "from sklearn.model_selection import train_test_split\n",
    "\n",
    "ratio = 0.8\n",
    "train_data, test_data = train_test_split(dataset, train_size=ratio, shuffle=False)\n",
    "train_data.shape, test_data.shape"
   ]
  },
  {
   "cell_type": "code",
   "execution_count": 7,
   "metadata": {},
   "outputs": [],
   "source": [
    "from sklearn.preprocessing import MinMaxScaler\n",
    "\n",
    "scaler = MinMaxScaler(feature_range=(0,1))\n",
    "df_for_training_scaled = scaler.fit_transform(train_data)\n",
    "df_for_testing_scaled=scaler.transform(test_data)"
   ]
  },
  {
   "cell_type": "code",
   "execution_count": 8,
   "metadata": {},
   "outputs": [],
   "source": [
    "import numpy as np\n",
    "\n",
    "def createXY(dataset,n_past, index=0):\n",
    "    dataX = []\n",
    "    dataY = []\n",
    "    for i in range(n_past, len(dataset)):\n",
    "            dataX.append(dataset[i - n_past:i, :])\n",
    "            dataY.append(dataset[i,index])\n",
    "    return np.array(dataX),np.array(dataY)        "
   ]
  },
  {
   "cell_type": "code",
   "execution_count": 9,
   "metadata": {},
   "outputs": [
    {
     "data": {
      "text/plain": [
       "((2164, 50, 1), (2164,), (524, 30, 1), (524,))"
      ]
     },
     "execution_count": 9,
     "metadata": {},
     "output_type": "execute_result"
    }
   ],
   "source": [
    "train_steps = 50\n",
    "test_steps = 30\n",
    "\n",
    "trainX,trainY=createXY(df_for_training_scaled,train_steps,index=target_index)\n",
    "testX,testY=createXY(df_for_testing_scaled,test_steps,index=target_index)\n",
    "train_shape = trainX.shape[1:]\n",
    "trainX.shape,trainY.shape,testX.shape,testY.shape"
   ]
  },
  {
   "cell_type": "code",
   "execution_count": 10,
   "metadata": {},
   "outputs": [
    {
     "name": "stdout",
     "output_type": "stream",
     "text": [
      "Using PyTorch backend.\n",
      "Epoch 1/15\n"
     ]
    },
    {
     "name": "stderr",
     "output_type": "stream",
     "text": [
      "/mnt/Yeh/Dataset/ziyang/miniconda3/envs/keras/lib/python3.10/site-packages/keras_core/src/layers/rnn/rnn.py:205: UserWarning: Do not pass an `input_shape`/`input_dim` argument to a layer. When using Sequential models, prefer using an `Input(shape)` object as the first layer in the model instead.\n",
      "  super().__init__(**kwargs)\n"
     ]
    },
    {
     "name": "stdout",
     "output_type": "stream",
     "text": [
      "\u001b[1m9/9\u001b[0m \u001b[32m━━━━━━━━━━━━━━━━━━━━\u001b[0m\u001b[37m\u001b[0m \u001b[1m1s\u001b[0m 67ms/step - loss: 0.0346\n",
      "Epoch 2/15\n",
      "\u001b[1m9/9\u001b[0m \u001b[32m━━━━━━━━━━━━━━━━━━━━\u001b[0m\u001b[37m\u001b[0m \u001b[1m1s\u001b[0m 67ms/step - loss: 0.0038\n",
      "Epoch 3/15\n",
      "\u001b[1m9/9\u001b[0m \u001b[32m━━━━━━━━━━━━━━━━━━━━\u001b[0m\u001b[37m\u001b[0m \u001b[1m1s\u001b[0m 64ms/step - loss: 0.0015\n",
      "Epoch 4/15\n",
      "\u001b[1m9/9\u001b[0m \u001b[32m━━━━━━━━━━━━━━━━━━━━\u001b[0m\u001b[37m\u001b[0m \u001b[1m1s\u001b[0m 67ms/step - loss: 0.0012\n",
      "Epoch 5/15\n",
      "\u001b[1m9/9\u001b[0m \u001b[32m━━━━━━━━━━━━━━━━━━━━\u001b[0m\u001b[37m\u001b[0m \u001b[1m1s\u001b[0m 67ms/step - loss: 8.4481e-04\n",
      "Epoch 6/15\n",
      "\u001b[1m9/9\u001b[0m \u001b[32m━━━━━━━━━━━━━━━━━━━━\u001b[0m\u001b[37m\u001b[0m \u001b[1m1s\u001b[0m 67ms/step - loss: 9.1662e-04\n",
      "Epoch 7/15\n",
      "\u001b[1m9/9\u001b[0m \u001b[32m━━━━━━━━━━━━━━━━━━━━\u001b[0m\u001b[37m\u001b[0m \u001b[1m1s\u001b[0m 65ms/step - loss: 9.4998e-04\n",
      "Epoch 8/15\n",
      "\u001b[1m9/9\u001b[0m \u001b[32m━━━━━━━━━━━━━━━━━━━━\u001b[0m\u001b[37m\u001b[0m \u001b[1m1s\u001b[0m 65ms/step - loss: 8.4478e-04\n",
      "Epoch 9/15\n",
      "\u001b[1m9/9\u001b[0m \u001b[32m━━━━━━━━━━━━━━━━━━━━\u001b[0m\u001b[37m\u001b[0m \u001b[1m1s\u001b[0m 65ms/step - loss: 9.0211e-04\n",
      "Epoch 10/15\n",
      "\u001b[1m9/9\u001b[0m \u001b[32m━━━━━━━━━━━━━━━━━━━━\u001b[0m\u001b[37m\u001b[0m \u001b[1m1s\u001b[0m 65ms/step - loss: 7.8805e-04\n",
      "Epoch 11/15\n",
      "\u001b[1m9/9\u001b[0m \u001b[32m━━━━━━━━━━━━━━━━━━━━\u001b[0m\u001b[37m\u001b[0m \u001b[1m1s\u001b[0m 70ms/step - loss: 7.6769e-04\n",
      "Epoch 12/15\n",
      "\u001b[1m9/9\u001b[0m \u001b[32m━━━━━━━━━━━━━━━━━━━━\u001b[0m\u001b[37m\u001b[0m \u001b[1m1s\u001b[0m 69ms/step - loss: 6.7462e-04\n",
      "Epoch 13/15\n",
      "\u001b[1m9/9\u001b[0m \u001b[32m━━━━━━━━━━━━━━━━━━━━\u001b[0m\u001b[37m\u001b[0m \u001b[1m1s\u001b[0m 66ms/step - loss: 6.4259e-04\n",
      "Epoch 14/15\n",
      "\u001b[1m9/9\u001b[0m \u001b[32m━━━━━━━━━━━━━━━━━━━━\u001b[0m\u001b[37m\u001b[0m \u001b[1m1s\u001b[0m 66ms/step - loss: 6.6750e-04\n",
      "Epoch 15/15\n",
      "\u001b[1m9/9\u001b[0m \u001b[32m━━━━━━━━━━━━━━━━━━━━\u001b[0m\u001b[37m\u001b[0m \u001b[1m1s\u001b[0m 64ms/step - loss: 7.5698e-04\n"
     ]
    }
   ],
   "source": [
    "import keras_core as keras\n",
    "from keras_core.layers import *\n",
    "def rnn_model(optimizer,shape,dropout=0.2):\n",
    "    grid_model = keras.Sequential()\n",
    "    grid_model.add(LSTM(64,return_sequences=True,input_shape=shape))\n",
    "    grid_model.add(LSTM(64))\n",
    "    grid_model.add(Dropout(dropout))\n",
    "    grid_model.add(Dense(1))\n",
    "\n",
    "    grid_model.compile(loss = 'mse',optimizer = optimizer)\n",
    "    return grid_model\n",
    "\n",
    "rnn = rnn_model('adam',train_shape)\n",
    "\n",
    "history = rnn.fit(trainX,trainY,batch_size=256,epochs=15)"
   ]
  },
  {
   "cell_type": "code",
   "execution_count": 11,
   "metadata": {},
   "outputs": [
    {
     "name": "stdout",
     "output_type": "stream",
     "text": [
      "\u001b[1m17/17\u001b[0m \u001b[32m━━━━━━━━━━━━━━━━━━━━\u001b[0m\u001b[37m\u001b[0m \u001b[1m0s\u001b[0m 25ms/step\n"
     ]
    }
   ],
   "source": [
    "prediction=rnn.predict(testX)"
   ]
  },
  {
   "cell_type": "code",
   "execution_count": 12,
   "metadata": {},
   "outputs": [],
   "source": [
    "prediction_copies_array = np.repeat(prediction,len_feats, axis=-1)\n",
    "pred=scaler.inverse_transform(np.reshape(prediction_copies_array,(len(prediction),len_feats)))[:,0]"
   ]
  },
  {
   "cell_type": "code",
   "execution_count": 13,
   "metadata": {},
   "outputs": [],
   "source": [
    "original_copies_array = np.repeat(testY,len_feats, axis=-1)\n",
    "original=scaler.inverse_transform(np.reshape(original_copies_array,(len(testY),len_feats)))[:,0]"
   ]
  },
  {
   "cell_type": "code",
   "execution_count": 14,
   "metadata": {},
   "outputs": [
    {
     "data": {
      "image/png": "[encoded data removed]",
      "text/plain": [
       "<Figure size 640x480 with 1 Axes>"
      ]
     },
     "metadata": {},
     "output_type": "display_data"
    }
   ],
   "source": [
    "import matplotlib.pyplot as plt\n",
    "import seaborn as sns\n",
    "\n",
    "sns.set_theme(style=\"white\")\n",
    "plt.plot(original, color = 'red', label = 'Real  Stock Price')\n",
    "plt.plot(pred, color = 'blue', label = 'Predicted  Stock Price')\n",
    "plt.title(' Stock Price Prediction')\n",
    "plt.xlabel('Time')\n",
    "plt.ylabel(' Stock Price')\n",
    "plt.legend()\n",
    "plt.show()"
   ]
  },
  {
   "cell_type": "code",
   "execution_count": 15,
   "metadata": {},
   "outputs": [
    {
     "data": {
      "text/plain": [
       "array(36.562767, dtype=float32)"
      ]
     },
     "execution_count": 15,
     "metadata": {},
     "output_type": "execute_result"
    }
   ],
   "source": [
    "y_true = original\n",
    "y_pred = pred\n",
    "mse = keras.losses.MeanSquaredError()\n",
    "mse(y_true, y_pred).cpu().numpy()"
   ]
  }
 ],
 "metadata": {
  "kernelspec": {
   "display_name": "keras",
   "language": "python",
   "name": "python3"
  },
  "language_info": {
   "codemirror_mode": {
    "name": "ipython",
    "version": 3
   },
   "file_extension": ".py",
   "mimetype": "text/x-python",
   "name": "python",
   "nbconvert_exporter": "python",
   "pygments_lexer": "ipython3",
   "version": "3.10.13"
  }
 },
 "nbformat": 4,
 "nbformat_minor": 2
}
